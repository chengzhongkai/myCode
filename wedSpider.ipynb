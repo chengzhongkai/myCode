{
  "nbformat": 4,
  "nbformat_minor": 0,
  "metadata": {
    "colab": {
      "name": "YOLOv5 Tutorial",
      "provenance": [],
      "collapsed_sections": [],
      "machine_shape": "hm",
      "include_colab_link": true
    },
    "kernelspec": {
      "name": "python3",
      "display_name": "Python 3"
    },
    "accelerator": "GPU"
  },
  "cells": [
    {
      "cell_type": "markdown",
      "metadata": {
        "id": "view-in-github",
        "colab_type": "text"
      },
      "source": [
        "<a href=\"https://colab.research.google.com/github/chengzhongkai/myCode/blob/master/wedSpider.ipynb\" target=\"_parent\"><img src=\"https://colab.research.google.com/assets/colab-badge.svg\" alt=\"Open In Colab\"/></a>"
      ]
    },
    {
      "cell_type": "code",
      "source": [
        "import bs4\n",
        "import requests\n",
        "import urllib.parse\n",
        "\n",
        "categories = []\n",
        "\n",
        "# 業務スーパー　商品一覧\n",
        "url = 'https://www.gyomusuper.jp/item/index.php'\n",
        "resp = requests.get(url)\n"
      ],
      "metadata": {
        "id": "-JuA6__Fk6Wm"
      },
      "execution_count": 20,
      "outputs": []
    },
    {
      "cell_type": "code",
      "source": [
        "docDom = bs4.BeautifulSoup(resp.content, 'html.parser')\n",
        "cata_list = docDom.find(id='category').find_all('a')\n",
        "for i in cata_list:\n",
        "  print(i.text, url[:url.rfind('/')+1] + i.get('href'))\n",
        "  categories.append((i.text, url[:url.rfind('/')+1] + i.get('href')))\n"
      ],
      "metadata": {
        "id": "lYGzOSVeniTU",
        "outputId": "33d242d9-5bda-45a0-a55f-9ab438ee187b",
        "colab": {
          "base_uri": "https://localhost:8080/"
        }
      },
      "execution_count": 21,
      "outputs": [
        {
          "output_type": "stream",
          "name": "stdout",
          "text": [
            "冷蔵（チルド）肉 https://www.gyomusuper.jp/item/list.php?gc_id=58\n",
            "冷凍肉 https://www.gyomusuper.jp/item/list.php?gc_id=54\n",
            "冷凍加工 https://www.gyomusuper.jp/item/list.php?gc_id=33\n",
            "冷凍野菜 https://www.gyomusuper.jp/item/list.php?gc_id=18\n",
            "飲料 https://www.gyomusuper.jp/item/list.php?gc_id=57\n",
            "冷凍魚 https://www.gyomusuper.jp/item/list.php?gc_id=16\n",
            "惣菜 https://www.gyomusuper.jp/item/list.php?gc_id=19\n",
            "調味料 https://www.gyomusuper.jp/item/list.php?gc_id=28\n",
            "お菓子 https://www.gyomusuper.jp/item/list.php?gc_id=10\n",
            "とうふ https://www.gyomusuper.jp/item/list.php?gc_id=29\n",
            "缶詰 https://www.gyomusuper.jp/item/list.php?gc_id=12\n",
            "水煮 https://www.gyomusuper.jp/item/list.php?gc_id=15\n",
            "こんにゃく https://www.gyomusuper.jp/item/list.php?gc_id=24\n",
            "常温加工 https://www.gyomusuper.jp/item/list.php?gc_id=26\n",
            "パン https://www.gyomusuper.jp/item/list.php?gc_id=32\n",
            "ハム・ソーセージ https://www.gyomusuper.jp/item/list.php?gc_id=31\n",
            "乾燥物 https://www.gyomusuper.jp/item/list.php?gc_id=11\n",
            "麺 https://www.gyomusuper.jp/item/list.php?gc_id=27\n",
            "佃煮 https://www.gyomusuper.jp/item/list.php?gc_id=20\n",
            "直輸入商品 https://www.gyomusuper.jp/item/list.php?gc_id=61\n",
            "国内自社工場商品 https://www.gyomusuper.jp/item/list.php?gc_id=62\n",
            "メディアで紹介された商品 https://www.gyomusuper.jp/item/list.php?gc_id=media\n"
          ]
        }
      ]
    },
    {
      "cell_type": "code",
      "source": [
        "\n",
        "\n",
        "def fetchCata(cata0):\n",
        "  products = []\n",
        "  resp = requests.get(cata0[1])\n",
        "  docDom = bs4.BeautifulSoup(resp.text, 'html.parser')\n",
        "  print(len(resp.text))\n",
        "  products_dom = docDom.select('#sec_contents img.lazy')\n",
        "  for i in products_dom:\n",
        "    products.append((cata0[0] ,i.get('alt'), urllib.parse.urljoin(cata0[1], i.get('src')), urllib.parse.urljoin(cata0[1], i.get('data-original'))))\n",
        "  return products\n",
        "\n",
        "allProds =[]\n",
        "for c in categories: \n",
        "  prods = fetchCata(c)\n",
        "  allProds.extend(prods)\n",
        "  print(len(prods))"
      ],
      "metadata": {
        "id": "V3Mn-4wDpOaU"
      },
      "execution_count": null,
      "outputs": []
    },
    {
      "cell_type": "code",
      "source": [
        "import json\n",
        "with open('products.json', 'w') as f:\n",
        "    json.dump(allProds, f, indent=4, ensure_ascii=False)\n",
        "print(f'{len(allProds)} is founds.')\n"
      ],
      "metadata": {
        "id": "vkYILbWVyBnQ",
        "outputId": "ce1407f7-f9ab-41ab-d2cc-c25f5ed4398f",
        "colab": {
          "base_uri": "https://localhost:8080/"
        }
      },
      "execution_count": 53,
      "outputs": [
        {
          "output_type": "stream",
          "name": "stdout",
          "text": [
            "1537 is founds.\n"
          ]
        }
      ]
    },
    {
      "cell_type": "markdown",
      "source": [
        "# 新しいセクション"
      ],
      "metadata": {
        "id": "oL9JNQNmx6hD"
      }
    }
  ]
}