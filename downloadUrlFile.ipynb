{
  "nbformat": 4,
  "nbformat_minor": 0,
  "metadata": {
    "colab": {
      "name": "YOLOv5 Tutorial",
      "provenance": [],
      "collapsed_sections": [],
      "machine_shape": "hm",
      "include_colab_link": true
    },
    "kernelspec": {
      "name": "python3",
      "display_name": "Python 3"
    },
    "accelerator": "GPU"
  },
  "cells": [
    {
      "cell_type": "markdown",
      "metadata": {
        "id": "view-in-github",
        "colab_type": "text"
      },
      "source": [
        "<a href=\"https://colab.research.google.com/github/chengzhongkai/myCode/blob/master/downloadUrlFile.ipynb\" target=\"_parent\"><img src=\"https://colab.research.google.com/assets/colab-badge.svg\" alt=\"Open In Colab\"/></a>"
      ]
    },
    {
      "cell_type": "code",
      "source": [
        "import json\n",
        "with open('products.json', 'r') as f:\n",
        "    data = json.load(f)\n",
        "    print(data)\n"
      ],
      "metadata": {
        "id": "vkYILbWVyBnQ"
      },
      "execution_count": null,
      "outputs": []
    },
    {
      "cell_type": "code",
      "source": [
        "products =[]\n",
        "for i in data:\n",
        "  if 'dummy' in i[2]:\n",
        "    products.append((i[0],i[1],i[3]))\n",
        "  else:\n",
        "    products.append((i[0],i[1],i[2]))\n",
        "\n",
        "with open('products2.json', 'w') as f:\n",
        "    json.dump(products,f,ensure_ascii=False,indent=2)\n",
        "\n"
      ],
      "metadata": {
        "id": "xQMiiYa8aPei"
      },
      "execution_count": null,
      "outputs": []
    },
    {
      "cell_type": "code",
      "source": [
        "import urllib.request\n",
        "import os\n",
        "\n",
        "cnt = len(products)\n",
        "print(f'all:{cnt}')\n",
        "i = 0\n",
        "for p in products:\n",
        "  i+=1\n",
        "  print(f\"\\r{i}\",end = '')\n",
        "  if not os.path.exists(f'data/{p[0]}'):\n",
        "    os.makedirs(f'data/{p[0]}')\n",
        "  urllib.request.urlretrieve(p[2], f'data/{p[0]}/{p[1]}.png')"
      ],
      "metadata": {
        "id": "CT7ndj6Zb1h7"
      },
      "execution_count": null,
      "outputs": []
    }
  ]
}